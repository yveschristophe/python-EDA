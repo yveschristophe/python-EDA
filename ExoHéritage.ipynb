{
 "cells": [
  {
   "cell_type": "code",
   "execution_count": 87,
   "metadata": {},
   "outputs": [
    {
     "name": "stdout",
     "output_type": "stream",
     "text": [
      "Nom: Ilyass\n",
      "Prenom: Math\n",
      "Date de naissance: 01/07/1982\n",
      "Nom: Ilyass\n",
      "Prenom: Math\n",
      "Date de naissance: 01/07/1985\n",
      "Salaire:  7865.548\n",
      "Nom: Ilyass\n",
      "Prenom: Math\n",
      "Date de naissance: 01/07/1988\n",
      "Salaire:  7865.548\n",
      "Service: Ressource humaine\n"
     ]
    }
   ],
   "source": [
    "from datetime import date\n",
    "class DateNaissance: \n",
    "    def __init__(self, jour=0, mois=0, annee=0):\n",
    "        self.jour = jour\n",
    "        self.mois = mois\n",
    "        self.annee = annee\n",
    "        \n",
    "    def toString(self):\n",
    "        d = date(self.annee,self.mois,self.jour)\n",
    "        x= str(d.strftime('%d/%m/%Y'))\n",
    "        return x\n",
    "\n",
    "class Personne:\n",
    "    def __init__(self, nom, prenom, date):\n",
    "        self.date = DateNaissance.toString(date)\n",
    "        self.nom = nom\n",
    "        self.prenom = prenom\n",
    "    \n",
    "    def afficher(self):\n",
    "        print(\"Nom: \" + self.nom)\n",
    "        print(\"Prenom: \" + self.prenom)\n",
    "        print(\"Date de naissance: \" + self.date)\n",
    "        \n",
    "class Employe(Personne):\n",
    "    def __init__(self, nom, prenom, date, salaire):\n",
    "        Personne.__init__(self, nom, prenom, date)\n",
    "        self.salaire = salaire\n",
    "    \n",
    "    def afficher(self):\n",
    "        print(\"Nom: \" + self.nom)\n",
    "        print(\"Prenom: \" + self.prenom)\n",
    "        print(\"Date de naissance: \" + self.date)\n",
    "        print(\"Salaire: \", self.salaire)\n",
    "\n",
    "class Chef(Employe):\n",
    "    def __init__(self, nom, prenom, date, salaire, service):\n",
    "        Employe.__init__(self, nom, prenom, date, salaire)\n",
    "        self.service = service\n",
    "    \n",
    "    def afficher(self):\n",
    "        print(\"Nom: \" + self.nom)\n",
    "        print(\"Prenom: \" + self.prenom)\n",
    "        print(\"Date de naissance: \" + self.date)\n",
    "        print(\"Salaire: \", self.salaire)\n",
    "        print(\"Service: \" + self.service )\n",
    "        \n",
    "        \n",
    "    \n",
    "P=Personne(\"Ilyass\",\"Math\",DateNaissance(1,7,1982))\n",
    "P.afficher()\n",
    "E=Employe(\"Ilyass\",\"Math\",DateNaissance(1,7,1985),7865.548)\n",
    "E.afficher()\n",
    "Ch=Chef(\"Ilyass\",\"Math\",DateNaissance(1,7,1988),7865.548,\"Ressource humaine\")\n",
    "Ch.afficher()\n"
   ]
  }
 ],
 "metadata": {
  "kernelspec": {
   "display_name": "Python 3",
   "language": "python",
   "name": "python3"
  },
  "language_info": {
   "codemirror_mode": {
    "name": "ipython",
    "version": 3
   },
   "file_extension": ".py",
   "mimetype": "text/x-python",
   "name": "python",
   "nbconvert_exporter": "python",
   "pygments_lexer": "ipython3",
   "version": "3.7.8"
  }
 },
 "nbformat": 4,
 "nbformat_minor": 2
}
