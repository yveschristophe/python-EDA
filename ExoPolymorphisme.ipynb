{
 "cells": [
  {
   "cell_type": "code",
   "execution_count": 50,
   "metadata": {},
   "outputs": [
    {
     "name": "stdout",
     "output_type": "stream",
     "text": [
      "Adresse destination: Paris\n",
      "Adress expedition: Lille\n",
      "Poids:  80  grammes\n",
      "Mode: normal\n",
      "Format: A4\n",
      "Prix du timbre:  0.2\n",
      "-----------------------\n",
      "Adresse destination: Barcelone\n",
      "Adress expedition: Marrakeche\n",
      "Poids:  3500  grammes\n",
      "Mode: expresse\n",
      "Volume:  2.25  litres\n",
      "Prix du timbre:  3.9375\n"
     ]
    }
   ],
   "source": [
    "class Courrier: \n",
    "    def __init__(self,adr_des, adr_ex,poids, mode_ex):\n",
    "        self.poids = poids\n",
    "        self.mode_ex = mode_ex\n",
    "        self.adr_ex = adr_ex\n",
    "        self.adr_des = adr_des\n",
    "        \n",
    "        \n",
    "        \n",
    "        \n",
    "        \n",
    "class Lettre(Courrier):\n",
    "    def __init__(self, poids, mode_ex, adr_ex, adr_des, size):\n",
    "        Courrier.__init__(self, poids, mode_ex, adr_ex, adr_des)\n",
    "        self.size = size\n",
    "        self.montant = 0\n",
    "        self.calculTimbre()\n",
    "    def calculTimbre(self):\n",
    "        tarif = 0\n",
    "        if self.size == \"A4\":\n",
    "            tarif = 2.50\n",
    "        else:\n",
    "            tarif = 3.50\n",
    "        montant = tarif * (self.poids / 1000)\n",
    "        if self.mode_ex == \"expresse\" :\n",
    "            montant = montant * 2\n",
    "        self.montant = montant  \n",
    "    def toString(self):\n",
    "        print(\"Adresse destination: \"+ self.adr_ex) \n",
    "        print(\"Adress expedition: \"+ self.adr_des)\n",
    "        print(\"Poids: \" ,self.poids ,\" grammes\")\n",
    "        print(\"Mode: \"+ self.mode_ex) \n",
    "        print(\"Format: \"+ self.size)\n",
    "        print(\"Prix du timbre: \", self.montant)\n",
    "        print(\"-----------------------\")\n",
    "        \n",
    "        \n",
    "        \n",
    "class Colis(Courrier):\n",
    "    def __init__(self, poids, mode_ex, adr_ex, adr_des, volume):\n",
    "        Courrier.__init__(self, poids, mode_ex, adr_ex, adr_des)\n",
    "        self.volume = volume\n",
    "        self.montant = 0\n",
    "        self.calculTimbre()\n",
    "        \n",
    "    def calculTimbre(self):\n",
    "        x = self.volume*0.25\n",
    "        montant = x * (self.poids / 1000)\n",
    "        if self.mode_ex == \"expresse\" :\n",
    "            montant = montant * 2\n",
    "        self.montant = montant  \n",
    "    def toString(self):\n",
    "        print(\"Adresse destination: \"+ self.adr_ex) \n",
    "        print(\"Adress expedition: \"+ self.adr_des)\n",
    "        print(\"Poids: \" ,self.poids ,\" grammes\")\n",
    "        print(\"Mode: \"+ self.mode_ex) \n",
    "        print(\"Volume: \", self.volume, \" litres\")\n",
    "        print(\"Prix du timbre: \", self.montant)\n",
    "        \n",
    "\n",
    "L1=Lettre(\"Lille\",\"Paris\",80,\"normal\",\"A4\")\n",
    "L1.toString()\n",
    "\n",
    "C1=Colis(\"Marrakeche\",\"Barcelone\",3500,\"expresse\",2.25)\n",
    "C1.toString()"
   ]
  }
 ],
 "metadata": {
  "kernelspec": {
   "display_name": "Python 3",
   "language": "python",
   "name": "python3"
  },
  "language_info": {
   "codemirror_mode": {
    "name": "ipython",
    "version": 3
   },
   "file_extension": ".py",
   "mimetype": "text/x-python",
   "name": "python",
   "nbconvert_exporter": "python",
   "pygments_lexer": "ipython3",
   "version": "3.7.8"
  }
 },
 "nbformat": 4,
 "nbformat_minor": 2
}
